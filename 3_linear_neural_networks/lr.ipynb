{
 "cells": [
  {
   "cell_type": "markdown",
   "metadata": {},
   "source": [
    "# Linear Regression\n",
    "\n",
    "## Basics\n",
    "\n",
    "- We assume that the relationship between features $\\mathbf{x}$ and target $y$ is approximately linear, i.e. $E[Y|X=\\mathbf{x}]$ can be expressed as a weighted sum of the features $\\mathbf{x}$.\n",
    "- Collecting all features into a vector $\\mathbf{x} \\in \\mathbb{R}^d$ and all weights into a vector $\\mathbf{w} \\in \\mathbb{R}^d$, we can write the linear model as \n",
    "$$\n",
    "\\hat{y} = \\mathbf{w}^T \\mathbf{x} + b\n",
    "$$\n",
    "- We often find it convenient to refer to features of our entire dataset of $n$ examples via the *design matrix* $\\mathbf{X} \\in \\mathbb{R}^{n \\times d}$, where each row is an example and each column is a feature. The predictions $\\hat{\\mathbf{y}}$ can be written as\n",
    "$$\n",
    "\\hat{\\mathbf{y}} = \\mathbf{X} \\mathbf{w} + b\n",
    "$$\n",
    "\n"
   ]
  },
  {
   "cell_type": "code",
   "execution_count": null,
   "metadata": {},
   "outputs": [],
   "source": [
    "%matplotlib inline\n",
    "import math\n",
    "import time\n",
    "import numpy as np\n",
    "import torch\n",
    "from d2l import torch as d2l"
   ]
  }
 ],
 "metadata": {
  "kernelspec": {
   "display_name": "new_d2l",
   "language": "python",
   "name": "python3"
  },
  "language_info": {
   "codemirror_mode": {
    "name": "ipython",
    "version": 3
   },
   "file_extension": ".py",
   "mimetype": "text/x-python",
   "name": "python",
   "nbconvert_exporter": "python",
   "pygments_lexer": "ipython3",
   "version": "3.9.20"
  }
 },
 "nbformat": 4,
 "nbformat_minor": 2
}
